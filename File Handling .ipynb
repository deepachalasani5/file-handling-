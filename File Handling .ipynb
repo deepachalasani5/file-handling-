{
 "cells": [
  {
   "cell_type": "markdown",
   "metadata": {},
   "source": [
    " File handling Means creating or Accessing the Data from text files or json(java script object notation)"
   ]
  },
  {
   "cell_type": "markdown",
   "metadata": {},
   "source": [
    "Write (creating the Data) , Read the Data , changing the Data "
   ]
  },
  {
   "cell_type": "raw",
   "metadata": {},
   "source": [
    "# for file handling concept we need to follow some rules \n",
    "\n",
    "1 . write the Data ('w')\n",
    "2 . reading the Data ('r')\n",
    "3.  changing the Data(appending the Data) ('a')\n",
    "4 . Accessing the Data only one Line ('readline()')\n",
    "5 . Accessing the Data for entire line ('readlines()')\n",
    "6.  Creating the above 5 logics with a function called as (with)"
   ]
  },
  {
   "cell_type": "raw",
   "metadata": {},
   "source": [
    "## list of topics used to Data science \n",
    "\n",
    "1 . Write \n",
    "2 . read\n",
    "3 . append\n",
    "4 . readline\n",
    "5 . readlines\n",
    "6 . with function"
   ]
  },
  {
   "cell_type": "markdown",
   "metadata": {},
   "source": [
    "## Write function "
   ]
  },
  {
   "cell_type": "code",
   "execution_count": 2,
   "metadata": {},
   "outputs": [],
   "source": [
    "a = open('kamal.txt' , 'w')\n",
    "a.write('Python programming language')\n",
    "a.close()"
   ]
  },
  {
   "cell_type": "markdown",
   "metadata": {},
   "source": [
    "## read Function"
   ]
  },
  {
   "cell_type": "code",
   "execution_count": 3,
   "metadata": {},
   "outputs": [
    {
     "name": "stdout",
     "output_type": "stream",
     "text": [
      "Python programming language\n"
     ]
    }
   ],
   "source": [
    "a = open('kamal.txt' , 'r')\n",
    "print(a.read())\n",
    "a.close()"
   ]
  },
  {
   "cell_type": "markdown",
   "metadata": {},
   "source": [
    "## append(changing the Data)"
   ]
  },
  {
   "cell_type": "code",
   "execution_count": 5,
   "metadata": {},
   "outputs": [
    {
     "name": "stdout",
     "output_type": "stream",
     "text": [
      "[1, 2, 3]\n",
      "[1, 2, 3, 10]\n"
     ]
    }
   ],
   "source": [
    "a = [1,2,3]\n",
    "print(a)\n",
    "a.append(10)\n",
    "print(a)"
   ]
  },
  {
   "cell_type": "code",
   "execution_count": 4,
   "metadata": {},
   "outputs": [],
   "source": [
    "a = open('kamal.txt', 'a')\n",
    "a.write(' By kamal ')\n",
    "a.close()\n"
   ]
  },
  {
   "cell_type": "code",
   "execution_count": 7,
   "metadata": {},
   "outputs": [
    {
     "name": "stdout",
     "output_type": "stream",
     "text": [
      "Python programming language By kamal \n"
     ]
    }
   ],
   "source": [
    "# read the file again\n",
    "a = open('kamal.txt' , 'r')\n",
    "print(a.read())\n",
    "a.close()"
   ]
  },
  {
   "cell_type": "markdown",
   "metadata": {},
   "source": [
    "## Readline"
   ]
  },
  {
   "cell_type": "code",
   "execution_count": 6,
   "metadata": {},
   "outputs": [],
   "source": [
    "a = open('python.txt' , 'w')\n",
    "a.write(\"\"\"Python tutorial provides basic and advanced concepts of Python. Our Python tutorial is designed for beginners and professionals.\n",
    "\n",
    "Python is a simple, general purpose, high level, and object-oriented programming language.\n",
    "\n",
    "Python is an interpreted scripting language also. Guido Van Rossum is known as the founder of Python programming.\"\"\")\n",
    "a.close()"
   ]
  },
  {
   "cell_type": "code",
   "execution_count": 7,
   "metadata": {},
   "outputs": [
    {
     "name": "stdout",
     "output_type": "stream",
     "text": [
      "Python tutorial provides basic and advanced concepts of Python. Our Python tutorial is designed for beginners and professionals.\n",
      "\n",
      "Python is a simple, general purpose, high level, and object-oriented programming language.\n",
      "\n",
      "Python is an interpreted scripting language also. Guido Van Rossum is known as the founder of Python programming.\n"
     ]
    }
   ],
   "source": [
    "a = open('python.txt','r')\n",
    "print(a.read())\n",
    "a.close()"
   ]
  },
  {
   "cell_type": "code",
   "execution_count": 8,
   "metadata": {},
   "outputs": [
    {
     "name": "stdout",
     "output_type": "stream",
     "text": [
      "Python tutorial provides basic and advanced concepts of Python. Our Python tutorial is designed for beginners and professionals.\n",
      "\n"
     ]
    }
   ],
   "source": [
    "a = open('python.txt' , 'r')\n",
    "print(a.readline()) # readline is going to print only one line . \n",
    "a.close()"
   ]
  },
  {
   "cell_type": "markdown",
   "metadata": {},
   "source": [
    "## Readlines "
   ]
  },
  {
   "cell_type": "code",
   "execution_count": 9,
   "metadata": {},
   "outputs": [
    {
     "name": "stdout",
     "output_type": "stream",
     "text": [
      "['Python tutorial provides basic and advanced concepts of Python. Our Python tutorial is designed for beginners and professionals.\\n', '\\n', 'Python is a simple, general purpose, high level, and object-oriented programming language.\\n', '\\n', 'Python is an interpreted scripting language also. Guido Van Rossum is known as the founder of Python programming.']\n"
     ]
    }
   ],
   "source": [
    "a = open('python.txt' , 'r')\n",
    "print(a.readlines()) # readline is going to print only one line . \n",
    "a.close()"
   ]
  },
  {
   "cell_type": "markdown",
   "metadata": {},
   "source": [
    "## with function "
   ]
  },
  {
   "cell_type": "code",
   "execution_count": 16,
   "metadata": {},
   "outputs": [],
   "source": [
    "with open('datascience.txt', 'w') as k: # k plays a role like variabe \n",
    "    k.write(\"\"\"Python tutorial provides basic and advanced concepts of Python. Our Python tutorial is designed for beginners and professionals.\n",
    "\n",
    "Python is a simple, general purpose, high level, and object-oriented programming language.\n",
    "\n",
    "Python is an interpreted scripting language also. Guido Van Rossum is known as the founder of Python\"\"\")\n",
    "    k.close()\n",
    "    "
   ]
  },
  {
   "cell_type": "code",
   "execution_count": 17,
   "metadata": {},
   "outputs": [
    {
     "name": "stdout",
     "output_type": "stream",
     "text": [
      "Python tutorial provides basic and advanced concepts of Python. Our Python tutorial is designed for beginners and professionals.\n",
      "\n",
      "Python is a simple, general purpose, high level, and object-oriented programming language.\n",
      "\n",
      "Python is an interpreted scripting language also. Guido Van Rossum is known as the founder of Python\n"
     ]
    }
   ],
   "source": [
    "with open('datascience.txt', 'r') as k: # k plays a role like variabe \n",
    "    print(k.read())\n",
    "    k.close()\n",
    "    "
   ]
  },
  {
   "cell_type": "code",
   "execution_count": 18,
   "metadata": {},
   "outputs": [],
   "source": [
    "with open('datascience.txt' , 'a') as k:\n",
    "    k.write(\" \\n appending Data \")\n",
    "    k.close()"
   ]
  },
  {
   "cell_type": "code",
   "execution_count": 19,
   "metadata": {},
   "outputs": [
    {
     "name": "stdout",
     "output_type": "stream",
     "text": [
      "Python tutorial provides basic and advanced concepts of Python. Our Python tutorial is designed for beginners and professionals.\n",
      "\n",
      "Python is a simple, general purpose, high level, and object-oriented programming language.\n",
      "\n",
      "Python is an interpreted scripting language also. Guido Van Rossum is known as the founder of Python \n",
      " appending Data \n"
     ]
    }
   ],
   "source": [
    "with open('datascience.txt', 'r') as k: # k plays a role like variabe \n",
    "    print(k.read())\n",
    "    k.close()\n",
    "    "
   ]
  },
  {
   "cell_type": "code",
   "execution_count": 23,
   "metadata": {},
   "outputs": [
    {
     "name": "stdout",
     "output_type": "stream",
     "text": [
      "Python tutorial provides basic and advanced concepts of Python. Our Python tutorial is designed for beginners and professionals.\n",
      "\n"
     ]
    }
   ],
   "source": [
    "with open('datascience.txt' , 'r') as k:\n",
    "    print(k.readline())\n",
    "    k.close()"
   ]
  },
  {
   "cell_type": "code",
   "execution_count": 24,
   "metadata": {},
   "outputs": [
    {
     "name": "stdout",
     "output_type": "stream",
     "text": [
      "['Python tutorial provides basic and advanced concepts of Python. Our Python tutorial is designed for beginners and professionals.\\n', '\\n', 'Python is a simple, general purpose, high level, and object-oriented programming language.\\n', '\\n', 'Python is an interpreted scripting language also. Guido Van Rossum is known as the founder of Python \\n', ' appending Data ']\n"
     ]
    }
   ],
   "source": [
    "with open('datascience.txt' , 'r') as k:\n",
    "    print(k.readlines())\n",
    "    k.close()"
   ]
  },
  {
   "cell_type": "code",
   "execution_count": 25,
   "metadata": {},
   "outputs": [],
   "source": [
    "## Natural language processing -> the algorithms which learns from Human Language "
   ]
  },
  {
   "cell_type": "code",
   "execution_count": 4,
   "metadata": {},
   "outputs": [
    {
     "name": "stdout",
     "output_type": "stream",
     "text": [
      "NLP , Machine learning , Deep learning , python ,Statics \n",
      "\n",
      "\n"
     ]
    }
   ],
   "source": [
    "with open('demo.txt' , 'r') as k:\n",
    "    print(k.read())\n",
    "    k.close()"
   ]
  },
  {
   "cell_type": "code",
   "execution_count": 27,
   "metadata": {},
   "outputs": [
    {
     "name": "stdout",
     "output_type": "stream",
     "text": [
      "Python - Data science  -  Machine Learning - Deep learning - Natural Language Processing \n",
      "----------------------------------------------------------------------------------------------------------------------\n",
      "\n",
      "Python \n",
      "---------\n",
      "\n",
      "1. what is python \n",
      "2. python data structures\n",
      "    a. interger\n",
      "    b. string \n",
      "    c. tuple\n",
      "    d. dictionary\n",
      "    e. set\n",
      "    f. list\n",
      "3.  conditional statements\n",
      "4.  control statements\n",
      "5.  lambda functions\n",
      "6.  classes and objects\n",
      "7.  Inheritance\n",
      "8.  polymorphisam\n",
      "9.  Abstraction\n",
      "10. Encapsulation\n",
      "10. constructors\n",
      "11.  Extension handling \n",
      "\n",
      "Data science tools\n",
      "-------------------------\n",
      "1. Numpy\n",
      "2. Pandas\n",
      "3. Matplotlib\n",
      "4. Seaborn\n",
      "\n",
      "\n",
      "Statistics\n",
      "-----------------\n",
      "\n",
      "1. what is statistics and use of statistics for Data science\n",
      "2. Population\n",
      "3. Sample\n",
      "> descripitive statistics and inferential statistics \n",
      "> types of data (numerical and categorical data )\n",
      "4. Types of sampling techniques\n",
      "5. Normalization(Gaussian Distribution)\n",
      "6. Standardization \n",
      "7. Log normal Distribution\n",
      "8. Hypothesis testing\n",
      "9. T-test\n",
      "10. Anova test\n",
      "11. Z-test\n",
      "12. Chi-square test\n",
      "13. p_value\n",
      "14. Central Limit therom\n",
      "15. Chebyshev's inequality theorem \n",
      "16. Box cox\n",
      "17. Covarriance and correlation\n",
      "18. Bias and variance\n",
      "19. Pearson Correlation and Spearson Correlation\n",
      "20. Skewness of the data\n",
      "21. Probability density function(pdf)\n",
      "22. Cummulative Density Function(cdf)\n",
      "23. Measure of Central tendensy\n",
      "24. Measure of disperssion\n",
      "\n",
      "Machine Learning\n",
      "---------------------------\n",
      "1. supervised Machine learning\n",
      "   a. simple Linear Regression\n",
      "   b. Multi Linear Regression\n",
      "   c. Polynomial Regression\n",
      "   d. Regularization\n",
      "   e. Sckit-learn\n",
      "2. supervised Machine learning classification\n",
      "    a. KNN\n",
      "    b. SVM\n",
      "    c. Logistic Regression\n",
      "    d. Decission Tree\n",
      "    e. Naive Bayes\n",
      "    f. Ensemble techniques\n",
      "             a. Bagging and Boosting techniques\n",
      "                        1. Random forest\n",
      "                        2. Adaboost\n",
      "                         3.XGboost\n",
      "                         4. Gradient Boosting\n",
      " \n",
      "3.  Hyperparameter tuning techniques\n",
      "4. Balancing the data\n",
      "5. Gradient Descent \n",
      "\n",
      "Handling Missing values (Feature Engineering)\n",
      "------------------------------------------------------------------\n",
      "1. Handling missing values for Numerical data\n",
      "2. Handling missing values for categorical data\n",
      "3. Handling Outliers\n",
      "\n",
      "Deep Learning Neaural Networks\n",
      "--------------------------------------------\n",
      "1. ANN\n",
      "   a. perceptron\n",
      "   b. Multilayer Perceptron\n",
      "   c. weights initilization\n",
      "   d. Loss functions \n",
      "   e. Back Propogation\n",
      "   f. chain rule reaction\n",
      "2. CNN\n",
      "    a. padding\n",
      "    b. max pooling\n",
      "    c. kernals\n",
      "  \n",
      "3. Adam optimizers\n",
      "4. RMS prompt\n",
      "5. Activation functions\n",
      "    1. sigmoid\n",
      "    2. Relu\n",
      "    3. Tanh\n",
      "    4. softmax\n",
      "\n",
      "6. RNN\n",
      "    a. what is RNN\n",
      "    b. use of RNN \n",
      "    c. Difference of RNN from CNN and ANN\n",
      "    d. LSTM\n",
      "    e. Bidirectional RNN\n",
      "    f. sequence to sequence learning\n",
      "    g. Encoders and Decoders\n",
      "    h. Attention models\n",
      "    \n",
      "Natural language Processing\n",
      "-----------------------------------\n",
      "1. Tokenization\n",
      "    a. sentence tokenization\n",
      "    b. word tokenization\n",
      "2. stopwords\n",
      "3. Stemming and Lemmatization\n",
      "4. pos Tagging\n",
      "5. Named entity recognition\n",
      "6. Bag of words\n",
      "7. Tf-idf\n",
      "8. Word-Embeddings\n",
      "    a. word2vec\n",
      "\n",
      "\n"
     ]
    }
   ],
   "source": [
    "with open('G:/Notebook Information/DS course.txt' , 'r') as k:\n",
    "    print(k.read())\n",
    "    k.close()"
   ]
  },
  {
   "cell_type": "code",
   "execution_count": 28,
   "metadata": {},
   "outputs": [
    {
     "name": "stdout",
     "output_type": "stream",
     "text": [
      "Python - Data science  -  Machine Learning - Deep learning - Natural Language Processing \n",
      "----------------------------------------------------------------------------------------------------------------------\n",
      "\n",
      "Python \n",
      "---------\n",
      "\n",
      "1. what is python \n",
      "2. python data structures\n",
      "    a. interger\n",
      "    b. string \n",
      "    c. tuple\n",
      "    d. dictionary\n",
      "    e. set\n",
      "    f. list\n",
      "3.  conditional statements\n",
      "4.  control statements\n",
      "5.  lambda functions\n",
      "6.  classes and objects\n",
      "7.  Inheritance\n",
      "8.  polymorphisam\n",
      "9.  Abstraction\n",
      "10. Encapsulation\n",
      "10. constructors\n",
      "11.  Extension handling \n",
      "\n",
      "Data science tools\n",
      "-------------------------\n",
      "1. Numpy\n",
      "2. Pandas\n",
      "3. Matplotlib\n",
      "4. Seaborn\n",
      "\n",
      "\n",
      "Statistics\n",
      "-----------------\n",
      "\n",
      "1. what is statistics and use of statistics for Data science\n",
      "2. Population\n",
      "3. Sample\n",
      "> descripitive statistics and inferential statistics \n",
      "> types of data (numerical and categorical data )\n",
      "4. Types of sampling techniques\n",
      "5. Normalization(Gaussian Distribution)\n",
      "6. Standardization \n",
      "7. Log normal Distribution\n",
      "8. Hypothesis testing\n",
      "9. T-test\n",
      "10. Anova test\n",
      "11. Z-test\n",
      "12. Chi-square test\n",
      "13. p_value\n",
      "14. Central Limit therom\n",
      "15. Chebyshev's inequality theorem \n",
      "16. Box cox\n",
      "17. Covarriance and correlation\n",
      "18. Bias and variance\n",
      "19. Pearson Correlation and Spearson Correlation\n",
      "20. Skewness of the data\n",
      "21. Probability density function(pdf)\n",
      "22. Cummulative Density Function(cdf)\n",
      "23. Measure of Central tendensy\n",
      "24. Measure of disperssion\n",
      "\n",
      "Machine Learning\n",
      "---------------------------\n",
      "1. supervised Machine learning\n",
      "   a. simple Linear Regression\n",
      "   b. Multi Linear Regression\n",
      "   c. Polynomial Regression\n",
      "   d. Regularization\n",
      "   e. Sckit-learn\n",
      "2. supervised Machine learning classification\n",
      "    a. KNN\n",
      "    b. SVM\n",
      "    c. Logistic Regression\n",
      "    d. Decission Tree\n",
      "    e. Naive Bayes\n",
      "    f. Ensemble techniques\n",
      "             a. Bagging and Boosting techniques\n",
      "                        1. Random forest\n",
      "                        2. Adaboost\n",
      "                         3.XGboost\n",
      "                         4. Gradient Boosting\n",
      " \n",
      "3.  Hyperparameter tuning techniques\n",
      "4. Balancing the data\n",
      "5. Gradient Descent \n",
      "\n",
      "Handling Missing values (Feature Engineering)\n",
      "------------------------------------------------------------------\n",
      "1. Handling missing values for Numerical data\n",
      "2. Handling missing values for categorical data\n",
      "3. Handling Outliers\n",
      "\n",
      "Deep Learning Neaural Networks\n",
      "--------------------------------------------\n",
      "1. ANN\n",
      "   a. perceptron\n",
      "   b. Multilayer Perceptron\n",
      "   c. weights initilization\n",
      "   d. Loss functions \n",
      "   e. Back Propogation\n",
      "   f. chain rule reaction\n",
      "2. CNN\n",
      "    a. padding\n",
      "    b. max pooling\n",
      "    c. kernals\n",
      "  \n",
      "3. Adam optimizers\n",
      "4. RMS prompt\n",
      "5. Activation functions\n",
      "    1. sigmoid\n",
      "    2. Relu\n",
      "    3. Tanh\n",
      "    4. softmax\n",
      "\n",
      "6. RNN\n",
      "    a. what is RNN\n",
      "    b. use of RNN \n",
      "    c. Difference of RNN from CNN and ANN\n",
      "    d. LSTM\n",
      "    e. Bidirectional RNN\n",
      "    f. sequence to sequence learning\n",
      "    g. Encoders and Decoders\n",
      "    h. Attention models\n",
      "    \n",
      "Natural language Processing\n",
      "-----------------------------------\n",
      "1. Tokenization\n",
      "    a. sentence tokenization\n",
      "    b. word tokenization\n",
      "2. stopwords\n",
      "3. Stemming and Lemmatization\n",
      "4. pos Tagging\n",
      "5. Named entity recognition\n",
      "6. Bag of words\n",
      "7. Tf-idf\n",
      "8. Word-Embeddings\n",
      "    a. word2vec\n",
      "\n",
      "\n"
     ]
    }
   ],
   "source": [
    "a = open('G:/Notebook Information/DS course.txt','r')\n",
    "print(a.read())\n",
    "a.close()"
   ]
  },
  {
   "cell_type": "code",
   "execution_count": 11,
   "metadata": {},
   "outputs": [],
   "source": [
    "import os "
   ]
  },
  {
   "cell_type": "code",
   "execution_count": 12,
   "metadata": {},
   "outputs": [
    {
     "data": {
      "text/plain": [
       "['home',\n",
       " 'usr',\n",
       " '.DS_Store',\n",
       " '.PKInstallSandboxManager-SystemSoftware',\n",
       " 'bin',\n",
       " 'sbin',\n",
       " '.file',\n",
       " 'etc',\n",
       " 'var',\n",
       " 'Library',\n",
       " 'System',\n",
       " '.VolumeIcon.icns',\n",
       " '.fseventsd',\n",
       " 'private',\n",
       " '.vol',\n",
       " 'Users',\n",
       " 'Applications',\n",
       " 'opt',\n",
       " 'dev',\n",
       " 'Volumes',\n",
       " 'tmp',\n",
       " 'cores']"
      ]
     },
     "execution_count": 12,
     "metadata": {},
     "output_type": "execute_result"
    }
   ],
   "source": [
    "os.listdir('/.') # root directory"
   ]
  },
  {
   "cell_type": "code",
   "execution_count": 13,
   "metadata": {},
   "outputs": [
    {
     "data": {
      "text/plain": [
       "['Python Exception handling.ipynb',\n",
       " 'Morning batch logical questions.ipynb',\n",
       " 'variables_operators_built_in_fns.ipynb',\n",
       " 'created files',\n",
       " 'numpy part 2 class 18.mp4',\n",
       " 'python class 3 - strings .mp4',\n",
       " 'demo.txt',\n",
       " '.DS_Store',\n",
       " 'class 10 dict comprehension.mp4',\n",
       " 'Strings .ipynb',\n",
       " 'Lambda map filter reduce functions .ipynb',\n",
       " 'control_flow_stmts.ipynb',\n",
       " 'pandas part 2.ipynb',\n",
       " 'Class and objects .ipynb',\n",
       " 'Information about Python.ipynb',\n",
       " 'pandas class 19.mp4',\n",
       " 'Untitled.ipynb',\n",
       " 'file handling class 13.mp4',\n",
       " 'map .ipynb',\n",
       " 'class 8 clarity.mp4',\n",
       " 'Interview Questions .ipynb',\n",
       " 'class object class 15.mp4',\n",
       " 'Python OOPS.ipynb',\n",
       " 'demo ',\n",
       " 'class 16 oops.mp4',\n",
       " 'excepting handling class 14.mp4',\n",
       " 'Tuples.ipynb',\n",
       " 'pandas part 1.ipynb',\n",
       " 'DS course.txt',\n",
       " 'class 8 function 2.mp4',\n",
       " 'class 9 List comprehesion.mp4',\n",
       " 'course_1_assessment_10.ipynb',\n",
       " '03_Numpy_Notebook.ipynb',\n",
       " 'course_1_assessment_12.ipynb',\n",
       " 'List comphrension.ipynb',\n",
       " 'print_stmt_variables_strings.ipynb',\n",
       " 'python basic class 1.mp4',\n",
       " 'Python List.ipynb',\n",
       " 'numpy.ipynb',\n",
       " 'Variables.ipynb',\n",
       " 'annoymous function class 11.mp4',\n",
       " 'python demo.mp4',\n",
       " 'class 17 numpy.mp4',\n",
       " 'Dictionary comphrension.ipynb',\n",
       " 'anonymous function part 2 class 12 .mp4',\n",
       " 'Python Morning Batch test.ipynb',\n",
       " '.ipynb_checkpoints',\n",
       " 'Python sets.ipynb',\n",
       " 'class 7 function .mp4',\n",
       " 'Python Dictionary.ipynb',\n",
       " 'python class 4- list.mp4',\n",
       " 'Lambda function.ipynb',\n",
       " 'course_1_assessment_11.ipynb',\n",
       " 'python class 2.mp4',\n",
       " 'python class 5 - sets.mp4',\n",
       " 'List Comprehesion.ipynb',\n",
       " 'Python test_25 questions .ipynb',\n",
       " 'Filter Function .ipynb',\n",
       " 'panda 2 class 20 .mp4',\n",
       " 'Python Function.ipynb',\n",
       " 'class 6 python dict and tuple.mp4',\n",
       " 'slidedeck (3).pdf',\n",
       " 'File Handling .ipynb']"
      ]
     },
     "execution_count": 13,
     "metadata": {},
     "output_type": "execute_result"
    }
   ],
   "source": [
    "os.listdir('./') # current directory"
   ]
  },
  {
   "cell_type": "code",
   "execution_count": 14,
   "metadata": {},
   "outputs": [
    {
     "data": {
      "text/plain": [
       "['value c ', '.DS_Store', '.localized', 'data science classes ']"
      ]
     },
     "execution_count": 14,
     "metadata": {},
     "output_type": "execute_result"
    }
   ],
   "source": [
    "os.listdir('./../') # parent directory "
   ]
  },
  {
   "cell_type": "code",
   "execution_count": 15,
   "metadata": {
    "scrolled": true
   },
   "outputs": [
    {
     "data": {
      "text/plain": [
       "['Python Exception handling.ipynb',\n",
       " 'Morning batch logical questions.ipynb',\n",
       " 'variables_operators_built_in_fns.ipynb',\n",
       " 'created files',\n",
       " 'numpy part 2 class 18.mp4',\n",
       " 'python class 3 - strings .mp4',\n",
       " 'demo.txt',\n",
       " '.DS_Store',\n",
       " 'class 10 dict comprehension.mp4',\n",
       " 'Strings .ipynb',\n",
       " 'Lambda map filter reduce functions .ipynb',\n",
       " 'control_flow_stmts.ipynb',\n",
       " 'pandas part 2.ipynb',\n",
       " 'Class and objects .ipynb',\n",
       " 'Information about Python.ipynb',\n",
       " 'pandas class 19.mp4',\n",
       " 'Untitled.ipynb',\n",
       " 'file handling class 13.mp4',\n",
       " 'map .ipynb',\n",
       " 'class 8 clarity.mp4',\n",
       " 'Interview Questions .ipynb',\n",
       " 'class object class 15.mp4',\n",
       " 'Python OOPS.ipynb',\n",
       " 'demo ',\n",
       " 'class 16 oops.mp4',\n",
       " 'excepting handling class 14.mp4',\n",
       " 'Tuples.ipynb',\n",
       " 'pandas part 1.ipynb',\n",
       " 'DS course.txt',\n",
       " 'class 8 function 2.mp4',\n",
       " 'class 9 List comprehesion.mp4',\n",
       " 'course_1_assessment_10.ipynb',\n",
       " '03_Numpy_Notebook.ipynb',\n",
       " 'course_1_assessment_12.ipynb',\n",
       " 'List comphrension.ipynb',\n",
       " 'print_stmt_variables_strings.ipynb',\n",
       " 'python basic class 1.mp4',\n",
       " 'Python List.ipynb',\n",
       " 'numpy.ipynb',\n",
       " 'Variables.ipynb',\n",
       " 'annoymous function class 11.mp4',\n",
       " 'python demo.mp4',\n",
       " 'class 17 numpy.mp4',\n",
       " 'Dictionary comphrension.ipynb',\n",
       " 'anonymous function part 2 class 12 .mp4',\n",
       " 'Python Morning Batch test.ipynb',\n",
       " '.ipynb_checkpoints',\n",
       " 'Python sets.ipynb',\n",
       " 'class 7 function .mp4',\n",
       " 'Python Dictionary.ipynb',\n",
       " 'python class 4- list.mp4',\n",
       " 'Lambda function.ipynb',\n",
       " 'course_1_assessment_11.ipynb',\n",
       " 'python class 2.mp4',\n",
       " 'python class 5 - sets.mp4',\n",
       " 'List Comprehesion.ipynb',\n",
       " 'Python test_25 questions .ipynb',\n",
       " 'Filter Function .ipynb',\n",
       " 'panda 2 class 20 .mp4',\n",
       " 'Python Function.ipynb',\n",
       " 'class 6 python dict and tuple.mp4',\n",
       " 'slidedeck (3).pdf',\n",
       " 'File Handling .ipynb']"
      ]
     },
     "execution_count": 15,
     "metadata": {},
     "output_type": "execute_result"
    }
   ],
   "source": [
    "os.listdir('./../data science classes /')"
   ]
  },
  {
   "cell_type": "code",
   "execution_count": 37,
   "metadata": {},
   "outputs": [],
   "source": [
    "# file handling \n",
    "# os module\n"
   ]
  },
  {
   "cell_type": "markdown",
   "metadata": {},
   "source": [
    "# math Module"
   ]
  },
  {
   "cell_type": "code",
   "execution_count": 38,
   "metadata": {},
   "outputs": [],
   "source": [
    "# math is nothing but Maths "
   ]
  },
  {
   "cell_type": "code",
   "execution_count": 39,
   "metadata": {},
   "outputs": [],
   "source": [
    "import math "
   ]
  },
  {
   "cell_type": "code",
   "execution_count": 40,
   "metadata": {},
   "outputs": [
    {
     "name": "stdout",
     "output_type": "stream",
     "text": [
      "4.47213595499958\n"
     ]
    }
   ],
   "source": [
    "a = 20\n",
    "b = math.sqrt(a)\n",
    "print(b)"
   ]
  },
  {
   "cell_type": "code",
   "execution_count": null,
   "metadata": {},
   "outputs": [],
   "source": [
    "a = 20\n",
    "b = math.\n",
    "print(b)"
   ]
  },
  {
   "cell_type": "code",
   "execution_count": 41,
   "metadata": {},
   "outputs": [],
   "source": [
    "# where we will use math function is 1. machine leanring and deep learning (maths)"
   ]
  },
  {
   "cell_type": "code",
   "execution_count": 44,
   "metadata": {},
   "outputs": [
    {
     "name": "stdout",
     "output_type": "stream",
     "text": [
      "144.0\n"
     ]
    }
   ],
   "source": [
    "a = 12\n",
    "b = math.pow(a , 2)\n",
    "print(b)"
   ]
  },
  {
   "cell_type": "code",
   "execution_count": 43,
   "metadata": {},
   "outputs": [
    {
     "data": {
      "text/plain": [
       "8"
      ]
     },
     "execution_count": 43,
     "metadata": {},
     "output_type": "execute_result"
    }
   ],
   "source": [
    "pow(2,3) # 8"
   ]
  },
  {
   "cell_type": "code",
   "execution_count": 46,
   "metadata": {},
   "outputs": [
    {
     "name": "stdout",
     "output_type": "stream",
     "text": [
      "20.085536923187668\n"
     ]
    }
   ],
   "source": [
    "a = 3\n",
    "b = math.exp(a)\n",
    "print(b)"
   ]
  },
  {
   "cell_type": "code",
   "execution_count": 47,
   "metadata": {},
   "outputs": [
    {
     "name": "stdout",
     "output_type": "stream",
     "text": [
      "0.9030899869919435\n"
     ]
    }
   ],
   "source": [
    "a = 8\n",
    "b = math.log10(a)\n",
    "print(b)"
   ]
  },
  {
   "cell_type": "code",
   "execution_count": 48,
   "metadata": {},
   "outputs": [
    {
     "name": "stdout",
     "output_type": "stream",
     "text": [
      "120\n"
     ]
    }
   ],
   "source": [
    "a = 5\n",
    "b = math.factorial(a) # factorial of 5 = 5 * 4 * 3 * 2 * 1 = 120\n",
    "print(b)"
   ]
  },
  {
   "cell_type": "code",
   "execution_count": null,
   "metadata": {},
   "outputs": [],
   "source": []
  }
 ],
 "metadata": {
  "kernelspec": {
   "display_name": "Python 3",
   "language": "python",
   "name": "python3"
  },
  "language_info": {
   "codemirror_mode": {
    "name": "ipython",
    "version": 3
   },
   "file_extension": ".py",
   "mimetype": "text/x-python",
   "name": "python",
   "nbconvert_exporter": "python",
   "pygments_lexer": "ipython3",
   "version": "3.8.5"
  }
 },
 "nbformat": 4,
 "nbformat_minor": 2
}
